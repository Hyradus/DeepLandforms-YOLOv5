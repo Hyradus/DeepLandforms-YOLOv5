{
 "cells": [
  {
   "cell_type": "markdown",
   "metadata": {},
   "source": [
    "# DeepLandforms Training YOLOv5\n",
    "## Landforms object detection training\n",
    "@ g.nodjoumi@jacobs-university.de\n",
    "\n",
    "***This notebook is based on yolov5 repository is provided by ultralytics https://zenodo.org/record/4154370 that has been modified to adapt to landforms***\n",
    "\n",
    "## Dataset\n",
    "If you are using Roboflow prepared dataset skip this part, else prepare the dataset folder as follow:\n",
    "\n",
    "Organize the dataset folder as following:\n",
    "\n",
    "* *datasetfolder/train/images*\n",
    "* *datasetfolder/valid/images*\n",
    "\n",
    "then create a dataset.yaml file containing:\n",
    "\n",
    "* train: *path to datasetfolder/train/images*\n",
    "* valid: *path to datasetfolder/valid/images*\n",
    "* nc: *number of classes*\n",
    "* names: ['label1','label2','...']\n",
    "\n",
    "## How-TO\n",
    "Just run the notebook and it will ask all variables and parameters necessary for training.\n",
    "\n",
    "*To further personalize the training, edit the dictionary, in the dedicated cell below, before run the notebook*"
   ]
  },
  {
   "cell_type": "code",
   "execution_count": 1,
   "metadata": {},
   "outputs": [
    {
     "name": "stdout",
     "output_type": "stream",
     "text": [
      "fatal: il path di destinazione 'yolov5' esiste già e non è una directory vuota.\n",
      "/home/hyradus/MyDrive/PyS/DeepLandforms-YOLOv5/yolov5\n",
      "Note: you may need to restart the kernel to use updated packages.\n",
      "Note: you may need to restart the kernel to use updated packages.\n",
      "Setup complete. Using torch 1.10.2+cu102 (NVIDIA GeForce GTX 1080 Ti)\n"
     ]
    }
   ],
   "source": [
    "#clone YOLOv5 and \n",
    "!git clone https://github.com/ultralytics/yolov5  # clone repo\n",
    "%cd yolov5\n",
    "%pip install -qr requirements.txt # install dependencies\n",
    "%pip install -q roboflow\n",
    "\n",
    "import torch\n",
    "import os\n",
    "import shutil\n",
    "from IPython.display import Image, clear_output  # to display images\n",
    "\n",
    "print(f\"Setup complete. Using torch {torch.__version__} ({torch.cuda.get_device_properties(0).name if torch.cuda.is_available() else 'CPU'})\")"
   ]
  },
  {
   "cell_type": "markdown",
   "metadata": {},
   "source": [
    "### Import modules"
   ]
  },
  {
   "cell_type": "code",
   "execution_count": 3,
   "metadata": {},
   "outputs": [
    {
     "name": "stdout",
     "output_type": "stream",
     "text": [
      "[Errno 17] File exists: '../yolov5/adds'\n"
     ]
    }
   ],
   "source": [
    "try:\n",
    "    shutil.copytree('../adds/','../yolov5/adds')    \n",
    "except Exception as e:\n",
    "    print(e)\n",
    "from adds.GenUtils import question, askPath, askFile, askInt\n",
    "from adds.DLUtils import get_train_cfg, link_dataset, get_model_cfg, get_args"
   ]
  },
  {
   "cell_type": "code",
   "execution_count": 4,
   "metadata": {},
   "outputs": [
    {
     "name": "stdout",
     "output_type": "stream",
     "text": [
      "torch 1.10.2+cu102 _CudaDeviceProperties(name='NVIDIA GeForce GTX 1080 Ti', major=6, minor=1, total_memory=11175MB, multi_processor_count=28)\n"
     ]
    }
   ],
   "source": [
    "print('torch %s %s' % (torch.__version__, torch.cuda.get_device_properties(0) if torch.cuda.is_available() else 'CPU'))"
   ]
  },
  {
   "cell_type": "markdown",
   "metadata": {},
   "source": [
    "### Set paths"
   ]
  },
  {
   "cell_type": "code",
   "execution_count": 21,
   "metadata": {},
   "outputs": [
    {
     "name": "stdin",
     "output_type": "stream",
     "text": [
      "Insert path to Dataset folder /mnt/DATA/Working/DeepLandforms-YOLOv5/Dataset/\n"
     ]
    },
    {
     "name": "stdout",
     "output_type": "stream",
     "text": [
      "/mnt/DATA/Working/DeepLandforms-YOLOv5/Dataset/ is valid\n"
     ]
    }
   ],
   "source": [
    "home = os.getcwd()\n",
    "logdir = os.path.dirname(home)+'/train_logs'\n",
    "os.makedirs(logdir, exist_ok=True)\n",
    "models_path = home+'/models'\n",
    "source = askPath('Dataset folder')\n",
    "yaml = source+'/data.yaml'"
   ]
  },
  {
   "cell_type": "code",
   "execution_count": 22,
   "metadata": {},
   "outputs": [
    {
     "name": "stdout",
     "output_type": "stream",
     "text": [
      "train: train/images\n",
      "val: valid/images\n",
      "\n",
      "nc: 5\n",
      "names: ['1', '2', '3', '4', '5']\n"
     ]
    }
   ],
   "source": [
    "%cat $yaml"
   ]
  },
  {
   "cell_type": "markdown",
   "metadata": {},
   "source": [
    "### Get model configuration"
   ]
  },
  {
   "cell_type": "code",
   "execution_count": 24,
   "metadata": {},
   "outputs": [
    {
     "name": "stdout",
     "output_type": "stream",
     "text": [
      "Please enter only: \n",
      "1, 2, 3, 4\n"
     ]
    },
    {
     "name": "stdin",
     "output_type": "stream",
     "text": [
      "\n",
      "Please select 1: yolov5s, 2:yolov5m, 3: yolov5l, 4:yolov5x  Answer:  1\n"
     ]
    },
    {
     "name": "stdout",
     "output_type": "stream",
     "text": [
      "03-03-2022_23-53-43  Folder not exist, creating.\n",
      "Created new  03-03-2022_23-53-43  Folder\n"
     ]
    }
   ],
   "source": [
    "model = int(question('Please select 1: yolov5s, 2:yolov5m, 3: yolov5l, 4:yolov5x', ['1','2','3','4']))\n",
    "train_cfg, model_name, run_folder = get_train_cfg(logdir, yaml, models_path, model)"
   ]
  },
  {
   "cell_type": "markdown",
   "metadata": {},
   "source": [
    "### Create symlink between repository and data folder"
   ]
  },
  {
   "cell_type": "code",
   "execution_count": 25,
   "metadata": {},
   "outputs": [
    {
     "name": "stdout",
     "output_type": "stream",
     "text": [
      "[Errno 17] File exists: '/mnt/DATA/Working/DeepLandforms-YOLOv5/Dataset//train' -> '/home/hyradus/MyDrive/PyS/DeepLandforms-YOLOv5/yolov5/train'\n"
     ]
    }
   ],
   "source": [
    "try:\n",
    "    link_dataset(home,source)\n",
    "except Exception as e:\n",
    "    print(e)\n",
    "    pass"
   ]
  },
  {
   "cell_type": "markdown",
   "metadata": {},
   "source": [
    "### Set training parameters"
   ]
  },
  {
   "cell_type": "code",
   "execution_count": 26,
   "metadata": {},
   "outputs": [
    {
     "name": "stdin",
     "output_type": "stream",
     "text": [
      "Insert integer for Epochs:  500\n",
      "Insert integer for Image size:  640\n",
      "Insert integer for Batch size:  8\n"
     ]
    }
   ],
   "source": [
    "epochs = askInt('Epochs: ')\n",
    "img_size = askInt('Image size: ')\n",
    "batch_size = askInt('Batch size: ')"
   ]
  },
  {
   "cell_type": "markdown",
   "metadata": {},
   "source": [
    "### Create dictionary with all parameters\n",
    "***Edit items if needed***"
   ]
  },
  {
   "cell_type": "code",
   "execution_count": 15,
   "metadata": {},
   "outputs": [],
   "source": [
    "args_dict = {\n",
    "    '--epochs':epochs, #integer\n",
    "    '--batch-size':batch_size, #integer\n",
    "    '--weights': model_name+'.pt',#source+'/trained_weights', #path\n",
    "    '--cfg':train_cfg, #path\n",
    " \t'--data':yaml, #path\n",
    " \t'--hyp':'', #path\n",
    " \t'--img-size':img_size, #integer\n",
    " \t'--rect':'', #True of False, '' = False\n",
    " \t'--resume':'', #True of False, '' = False\n",
    " \t'--nosave':'', #True of False, '' = False\n",
    " \t'--notest':'', #True of False, '' = False\n",
    " \t'--noautoanchor':'', #True of False, '' = False\n",
    " \t'--evolve':'', #True of False, '' = False\n",
    " \t'--bucket':'', #True of False, '' = False\n",
    " \t#'--cache-images':True, #True of False, '' = False\n",
    " \t'--image-weights':'', #True of False, '' = False\n",
    " \t'--device':'', #cuda or cpu, auto filled\n",
    " \t'--multi-scale':'', #True of False, '' = False\n",
    " \t'--single-cls':'', #True of False, '' = False\n",
    " \t'--adam':'',  #True of False, '' = False\n",
    " \t'--sync-bn':'', #True of False, '' = False\n",
    "    '--local_rank':'', #int\n",
    "    '--log-imgs':'', # int\n",
    "    '--log-artifacts':'', #True of False, '' = False\n",
    " \t'--workers':'', #integer\n",
    "    '--project':logdir, #path\n",
    "    '--name': run_folder, #string\n",
    "    '--exist-ok':'', #True of False, '' = False\n",
    "    '--quad':''} #True of False, '' = False"
   ]
  },
  {
   "cell_type": "markdown",
   "metadata": {},
   "source": [
    "### Get arguments for training script"
   ]
  },
  {
   "cell_type": "code",
   "execution_count": 16,
   "metadata": {},
   "outputs": [
    {
     "data": {
      "text/plain": [
       "'--epochs 10 --batch-size 8 --weights yolov5x.pt --cfg /home/hyradus/MyDrive/PyS/DeepLandforms-YOLOv5/train_logs/03-03-2022_16-31-48/custom_yolov5x.yaml --data /home/hyradus/MyDrive/PyS/DeepLandforms-YOLOv5/Dataset/data.yaml --img-size 640 --project /home/hyradus/MyDrive/PyS/DeepLandforms-YOLOv5/train_logs --name 03-03-2022_16-31-48'"
      ]
     },
     "execution_count": 16,
     "metadata": {},
     "output_type": "execute_result"
    }
   ],
   "source": [
    "arv = get_args(args_dict)\n",
    "arv"
   ]
  },
  {
   "cell_type": "markdown",
   "metadata": {},
   "source": [
    "### Training"
   ]
  },
  {
   "cell_type": "code",
   "execution_count": 17,
   "metadata": {},
   "outputs": [
    {
     "name": "stdout",
     "output_type": "stream",
     "text": [
      "The tensorboard extension is already loaded. To reload it, use:\n",
      "  %reload_ext tensorboard\n"
     ]
    },
    {
     "data": {
      "text/plain": [
       "Reusing TensorBoard on port 6006 (pid 134027), started 0:01:00 ago. (Use '!kill 134027' to kill it.)"
      ]
     },
     "metadata": {},
     "output_type": "display_data"
    },
    {
     "data": {
      "text/html": [
       "\n",
       "      <iframe id=\"tensorboard-frame-501d5886cb73f915\" width=\"100%\" height=\"800\" frameborder=\"0\">\n",
       "      </iframe>\n",
       "      <script>\n",
       "        (function() {\n",
       "          const frame = document.getElementById(\"tensorboard-frame-501d5886cb73f915\");\n",
       "          const url = new URL(\"/\", window.location);\n",
       "          const port = 6006;\n",
       "          if (port) {\n",
       "            url.port = port;\n",
       "          }\n",
       "          frame.src = url;\n",
       "        })();\n",
       "      </script>\n",
       "    "
      ],
      "text/plain": [
       "<IPython.core.display.HTML object>"
      ]
     },
     "metadata": {},
     "output_type": "display_data"
    }
   ],
   "source": [
    "%load_ext tensorboard\n",
    "%tensorboard --logdir $logdir"
   ]
  },
  {
   "cell_type": "code",
   "execution_count": 18,
   "metadata": {},
   "outputs": [
    {
     "name": "stdout",
     "output_type": "stream",
     "text": [
      "\u001b[34m\u001b[1mtrain: \u001b[0mweights=yolov5x.pt, cfg=/home/hyradus/MyDrive/PyS/DeepLandforms-YOLOv5/train_logs/03-03-2022_16-31-48/custom_yolov5x.yaml, data=/home/hyradus/MyDrive/PyS/DeepLandforms-YOLOv5/Dataset/data.yaml, hyp=data/hyps/hyp.scratch-low.yaml, epochs=10, batch_size=8, imgsz=640, rect=False, resume=False, nosave=False, noval=False, noautoanchor=False, evolve=None, bucket=, cache=None, image_weights=False, device=, multi_scale=False, single_cls=False, optimizer=SGD, sync_bn=False, workers=8, project=/home/hyradus/MyDrive/PyS/DeepLandforms-YOLOv5/train_logs, name=03-03-2022_16-31-48, exist_ok=False, quad=False, cos_lr=False, label_smoothing=0.0, patience=100, freeze=[0], save_period=-1, local_rank=-1, entity=None, upload_dataset=False, bbox_interval=-1, artifact_alias=latest\n",
      "\u001b[34m\u001b[1mgithub: \u001b[0mup to date with https://github.com/ultralytics/yolov5 ✅\n",
      "YOLOv5 🚀 v6.1-11-g63ddb6f torch 1.10.2+cu102 CUDA:0 (NVIDIA GeForce GTX 1080 Ti, 11176MiB)\n",
      "\n",
      "\u001b[34m\u001b[1mhyperparameters: \u001b[0mlr0=0.01, lrf=0.01, momentum=0.937, weight_decay=0.0005, warmup_epochs=3.0, warmup_momentum=0.8, warmup_bias_lr=0.1, box=0.05, cls=0.5, cls_pw=1.0, obj=1.0, obj_pw=1.0, iou_t=0.2, anchor_t=4.0, fl_gamma=0.0, hsv_h=0.015, hsv_s=0.7, hsv_v=0.4, degrees=0.0, translate=0.1, scale=0.5, shear=0.0, perspective=0.0, flipud=0.0, fliplr=0.5, mosaic=1.0, mixup=0.0, copy_paste=0.0\n",
      "\u001b[34m\u001b[1mWeights & Biases: \u001b[0mrun 'pip install wandb' to automatically track and visualize YOLOv5 🚀 runs (RECOMMENDED)\n",
      "\u001b[34m\u001b[1mTensorBoard: \u001b[0mStart with 'tensorboard --logdir /home/hyradus/MyDrive/PyS/DeepLandforms-YOLOv5/train_logs', view at http://localhost:6006/\n",
      "\n",
      "                 from  n    params  module                                  arguments                     \n",
      "  0                -1  1      8800  models.common.Conv                      [3, 80, 6, 2, 2]              \n",
      "  1                -1  1    115520  models.common.Conv                      [80, 160, 3, 2]               \n",
      "  2                -1  4    309120  models.common.C3                        [160, 160, 4]                 \n",
      "  3                -1  1    461440  models.common.Conv                      [160, 320, 3, 2]              \n",
      "  4                -1  8   2259200  models.common.C3                        [320, 320, 8]                 \n",
      "  5                -1  1   1844480  models.common.Conv                      [320, 640, 3, 2]              \n",
      "  6                -1 12  13125120  models.common.C3                        [640, 640, 12]                \n",
      "  7                -1  1   7375360  models.common.Conv                      [640, 1280, 3, 2]             \n",
      "  8                -1  4  19676160  models.common.C3                        [1280, 1280, 4]               \n",
      "  9                -1  1   4099840  models.common.SPPF                      [1280, 1280, 5]               \n",
      " 10                -1  1    820480  models.common.Conv                      [1280, 640, 1, 1]             \n",
      " 11                -1  1         0  torch.nn.modules.upsampling.Upsample    [None, 2, 'nearest']          \n",
      " 12           [-1, 6]  1         0  models.common.Concat                    [1]                           \n",
      " 13                -1  4   5332480  models.common.C3                        [1280, 640, 4, False]         \n",
      " 14                -1  1    205440  models.common.Conv                      [640, 320, 1, 1]              \n",
      " 15                -1  1         0  torch.nn.modules.upsampling.Upsample    [None, 2, 'nearest']          \n",
      " 16           [-1, 4]  1         0  models.common.Concat                    [1]                           \n",
      " 17                -1  4   1335040  models.common.C3                        [640, 320, 4, False]          \n",
      " 18                -1  1    922240  models.common.Conv                      [320, 320, 3, 2]              \n",
      " 19          [-1, 14]  1         0  models.common.Concat                    [1]                           \n",
      " 20                -1  4   4922880  models.common.C3                        [640, 640, 4, False]          \n",
      " 21                -1  1   3687680  models.common.Conv                      [640, 640, 3, 2]              \n",
      " 22          [-1, 10]  1         0  models.common.Concat                    [1]                           \n",
      " 23                -1  4  19676160  models.common.C3                        [1280, 1280, 4, False]        \n",
      " 24      [17, 20, 23]  1     67290  models.yolo.Detect                      [5, [[10, 13, 16, 30, 33, 23], [30, 61, 62, 45, 59, 119], [116, 90, 156, 198, 373, 326]], [320, 640, 1280]]\n",
      "Model Summary: 567 layers, 86244730 parameters, 86244730 gradients, 204.3 GFLOPs\n",
      "\n",
      "Transferred 738/745 items from yolov5x.pt\n",
      "Scaled weight_decay = 0.0005\n",
      "\u001b[34m\u001b[1moptimizer:\u001b[0m SGD with parameter groups 123 weight (no decay), 126 weight, 126 bias\n",
      "\u001b[34m\u001b[1mtrain: \u001b[0mScanning '/home/hyradus/MyDrive/PyS/DeepLandforms-YOLOv5/yolov5/train/lab\u001b[0m\n",
      "\u001b[34m\u001b[1mval: \u001b[0mScanning '/home/hyradus/MyDrive/PyS/DeepLandforms-YOLOv5/yolov5/valid/label\u001b[0m\n",
      "Plotting labels to /home/hyradus/MyDrive/PyS/DeepLandforms-YOLOv5/train_logs/03-03-2022_16-31-483/labels.jpg... \n",
      "\n",
      "\u001b[34m\u001b[1mAutoAnchor: \u001b[0m5.68 anchors/target, 0.982 Best Possible Recall (BPR). Current anchors are a good fit to dataset ✅\n",
      "Image sizes 640 train, 640 val\n",
      "Using 8 dataloader workers\n",
      "Logging results to \u001b[1m/home/hyradus/MyDrive/PyS/DeepLandforms-YOLOv5/train_logs/03-03-2022_16-31-483\u001b[0m\n",
      "Starting training for 10 epochs...\n",
      "\n",
      "     Epoch   gpu_mem       box       obj       cls    labels  img_size\n",
      "       0/9     7.36G    0.1009   0.04289   0.04946        26       640: 100%|███\n",
      "               Class     Images     Labels          P          R     mAP@.5 mAP@\n",
      "                 all         38        128     0.0597      0.246     0.0585      0.017\n",
      "\n",
      "     Epoch   gpu_mem       box       obj       cls    labels  img_size\n",
      "       1/9     7.95G   0.08203    0.0439   0.04367        10       640: 100%|███\n",
      "               Class     Images     Labels          P          R     mAP@.5 mAP@\n",
      "                 all         38        128      0.198      0.421       0.12     0.0368\n",
      "\n",
      "     Epoch   gpu_mem       box       obj       cls    labels  img_size\n",
      "       2/9     7.95G   0.08281   0.03184   0.03958        24       640: 100%|███\n",
      "               Class     Images     Labels          P          R     mAP@.5 mAP@\n",
      "                 all         38        128      0.143      0.338      0.118     0.0368\n",
      "\n",
      "     Epoch   gpu_mem       box       obj       cls    labels  img_size\n",
      "       3/9     7.95G   0.07402   0.03281   0.03709        18       640: 100%|███\n",
      "               Class     Images     Labels          P          R     mAP@.5 mAP@\n",
      "                 all         38        128      0.164      0.494      0.148     0.0504\n",
      "\n",
      "     Epoch   gpu_mem       box       obj       cls    labels  img_size\n",
      "       4/9     7.95G   0.06348   0.03164   0.03431        24       640: 100%|███\n",
      "               Class     Images     Labels          P          R     mAP@.5 mAP@\n",
      "                 all         38        128      0.336      0.519      0.316      0.134\n",
      "\n",
      "     Epoch   gpu_mem       box       obj       cls    labels  img_size\n",
      "       5/9     7.95G   0.05418   0.02964   0.03359        23       640: 100%|███\n",
      "               Class     Images     Labels          P          R     mAP@.5 mAP@\n",
      "                 all         38        128      0.324      0.477      0.287      0.111\n",
      "\n",
      "     Epoch   gpu_mem       box       obj       cls    labels  img_size\n",
      "       6/9     7.95G   0.04863   0.02717   0.03076        19       640: 100%|███\n",
      "               Class     Images     Labels          P          R     mAP@.5 mAP@\n",
      "                 all         38        128      0.252      0.514      0.387       0.19\n",
      "\n",
      "     Epoch   gpu_mem       box       obj       cls    labels  img_size\n",
      "       7/9     7.95G   0.04286   0.02622   0.02835        29       640: 100%|███\n",
      "               Class     Images     Labels          P          R     mAP@.5 mAP@\n",
      "                 all         38        128      0.353      0.584      0.461      0.253\n",
      "\n",
      "     Epoch   gpu_mem       box       obj       cls    labels  img_size\n",
      "       8/9     7.95G   0.03928    0.0269   0.02725        24       640: 100%|███\n",
      "               Class     Images     Labels          P          R     mAP@.5 mAP@\n",
      "                 all         38        128      0.357      0.693      0.533      0.259\n",
      "\n",
      "     Epoch   gpu_mem       box       obj       cls    labels  img_size\n",
      "       9/9     7.95G    0.0351   0.02482   0.02775        18       640: 100%|███\n",
      "               Class     Images     Labels          P          R     mAP@.5 mAP@\n",
      "                 all         38        128      0.538      0.611      0.561      0.335\n",
      "\n",
      "10 epochs completed in 0.146 hours.\n",
      "Optimizer stripped from /home/hyradus/MyDrive/PyS/DeepLandforms-YOLOv5/train_logs/03-03-2022_16-31-483/weights/last.pt, 173.2MB\n",
      "Optimizer stripped from /home/hyradus/MyDrive/PyS/DeepLandforms-YOLOv5/train_logs/03-03-2022_16-31-483/weights/best.pt, 173.2MB\n",
      "\n",
      "Validating /home/hyradus/MyDrive/PyS/DeepLandforms-YOLOv5/train_logs/03-03-2022_16-31-483/weights/best.pt...\n",
      "Fusing layers... \n",
      "Model Summary: 444 layers, 86200330 parameters, 0 gradients, 204.1 GFLOPs\n",
      "               Class     Images     Labels          P          R     mAP@.5 mAP@\n",
      "                 all         38        128      0.542       0.61       0.56      0.336\n",
      "                   1         38         13      0.677      0.966      0.973      0.563\n",
      "                   2         38         19      0.433      0.421        0.4      0.262\n",
      "                   3         38         15      0.831      0.328      0.408       0.24\n",
      "                   4         38         27      0.429      0.481      0.433      0.297\n",
      "                   5         38         54      0.342      0.852      0.588      0.319\n",
      "Results saved to \u001b[1m/home/hyradus/MyDrive/PyS/DeepLandforms-YOLOv5/train_logs/03-03-2022_16-31-483\u001b[0m\n"
     ]
    }
   ],
   "source": [
    "os.chdir(home)\n",
    "clear_output\n",
    "!python train.py $arv"
   ]
  }
 ],
 "metadata": {
  "kernelspec": {
   "display_name": "Python 3 (ipykernel)",
   "language": "python",
   "name": "python3"
  },
  "language_info": {
   "codemirror_mode": {
    "name": "ipython",
    "version": 3
   },
   "file_extension": ".py",
   "mimetype": "text/x-python",
   "name": "python",
   "nbconvert_exporter": "python",
   "pygments_lexer": "ipython3",
   "version": "3.9.7"
  }
 },
 "nbformat": 4,
 "nbformat_minor": 4
}
