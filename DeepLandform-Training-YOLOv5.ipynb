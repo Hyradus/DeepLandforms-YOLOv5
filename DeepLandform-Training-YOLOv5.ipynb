{
 "cells": [
  {
   "cell_type": "markdown",
   "metadata": {},
   "source": [
    "# DeepLandforms Training YOLOv5\n",
    "## Landforms object detection training\n",
    "@ g.nodjoumi@jacobs-university.de\n",
    "\n",
    "***This notebook is based on yolov5 repository is provided by ultralytics https://zenodo.org/record/4154370 that has been modified to adapt to landforms***\n",
    "\n",
    "## Dataset\n",
    "If you are using Roboflow prepared dataset skip this part, else prepare the dataset folder as follow:\n",
    "\n",
    "Organize the dataset folder as following:\n",
    "\n",
    "* *datasetfolder/train/images*\n",
    "* *datasetfolder/valid/images*\n",
    "\n",
    "then create a dataset.yaml file containing:\n",
    "\n",
    "* train: *path to datasetfolder/train/images*\n",
    "* valid: *path to datasetfolder/valid/images*\n",
    "* nc: *number of classes*\n",
    "* names: ['label1','label2','...']\n",
    "\n",
    "## How-TO\n",
    "Just run the notebook and it will ask all variables and parameters necessary for training.\n",
    "\n",
    "*To further personalize the training, edit the dictionary, in the dedicated cell below, before run the notebook*"
   ]
  },
  {
   "cell_type": "markdown",
   "metadata": {},
   "source": [
    "### Import modules"
   ]
  },
  {
   "cell_type": "code",
   "execution_count": 4,
   "metadata": {},
   "outputs": [],
   "source": [
    "from IPython.display import clear_output\n",
    "%cd yolov5\n",
    "!pip install -U -r requirements.txt  # install dependencies\n",
    "clear_output()"
   ]
  },
  {
   "cell_type": "code",
   "execution_count": null,
   "metadata": {},
   "outputs": [],
   "source": [
    "import os\n",
    "from adds.gen_utils import question, get_train_cfg, link_dataset, get_model_cfg, get_args\n",
    "import torch\n",
    "from IPython.display import Image  # for displaying images\n",
    "\n",
    "print('torch %s %s' % (torch.__version__, torch.cuda.get_device_properties(0) if torch.cuda.is_available() else 'CPU'))"
   ]
  },
  {
   "cell_type": "markdown",
   "metadata": {},
   "source": [
    "### Set paths"
   ]
  },
  {
   "cell_type": "code",
   "execution_count": null,
   "metadata": {},
   "outputs": [],
   "source": [
    "home = os.getcwd()\n",
    "models_path = home+'/models'\n",
    "source = input(str('Dataset folder'))\n",
    "os.chdir(source)\n",
    "yaml = source+'/data.yaml'"
   ]
  },
  {
   "cell_type": "code",
   "execution_count": null,
   "metadata": {},
   "outputs": [],
   "source": [
    "%cat $yaml"
   ]
  },
  {
   "cell_type": "markdown",
   "metadata": {},
   "source": [
    "### Get model configuration"
   ]
  },
  {
   "cell_type": "code",
   "execution_count": null,
   "metadata": {},
   "outputs": [],
   "source": [
    "model = int(question('Please select 1: yolov5s, 2:yolov5m, 3: yolov5l, 4:yolov5x', ['1','2','3','4']))\n",
    "train_cfg, weights = get_train_cfg(source, yaml, models_path, model)"
   ]
  },
  {
   "cell_type": "markdown",
   "metadata": {},
   "source": [
    "### Creat symlink between repository and data folder"
   ]
  },
  {
   "cell_type": "code",
   "execution_count": null,
   "metadata": {},
   "outputs": [],
   "source": [
    "try:\n",
    "    link_dataset(home,source)\n",
    "except:\n",
    "    print('Link exists')\n",
    "    pass"
   ]
  },
  {
   "cell_type": "markdown",
   "metadata": {},
   "source": [
    "### Set training parameters"
   ]
  },
  {
   "cell_type": "code",
   "execution_count": null,
   "metadata": {},
   "outputs": [],
   "source": [
    "epochs = int(input('Epochs: '))\n",
    "img_size = int(input('Image size: '))\n",
    "batch = int(input('Batch size: '))"
   ]
  },
  {
   "cell_type": "markdown",
   "metadata": {},
   "source": [
    "### Create dictionary with all parameters\n",
    "***Edit items if needed***"
   ]
  },
  {
   "cell_type": "code",
   "execution_count": null,
   "metadata": {},
   "outputs": [],
   "source": [
    "args_dict = {\n",
    "    '--weights': source+'/trained_weights', #path\n",
    "    '--cfg':train_cfg, #path\n",
    " \t'--data':yaml, #path\n",
    " \t'--hyp':'./data/hyp.scratch.yaml', #path\n",
    " \t'--epochs':epochs, #integer\n",
    " \t'--batch-size':batch, #integer\n",
    " \t'--img-size':img_size, #integer\n",
    " \t'--rect':'', #True of False, '' = False\n",
    " \t'--resume':'', #True of False, '' = False\n",
    " \t'--no-save':'', #True of False, '' = False\n",
    " \t'--no-test':'', #True of False, '' = False\n",
    " \t'--noautoanchor':'', #True of False, '' = False\n",
    " \t'--evolve':'', #True of False, '' = False\n",
    " \t'--bucket':'', #True of False, '' = False\n",
    " \t'--cache-images':'', #True of False, '' = False\n",
    " \t'--image-weights':'', #True of False, '' = False\n",
    " \t'--device':'', #cuda or cpu, auto filled\n",
    " \t'--multi-scale':True, #True of False, '' = False\n",
    " \t'--single-cls':'', #True of False, '' = False\n",
    " \t'--adam':'', \n",
    " \t'--sync-bn':'', #True of False, '' = False\n",
    " \t'--workers':8, #integer\n",
    "    '--project':source, #path\n",
    "    '--name': 'train_logs/exp', #string\n",
    "    '--exist-ok':''} #True of False, '' = False"
   ]
  },
  {
   "cell_type": "markdown",
   "metadata": {},
   "source": [
    "### Get arguments for training script"
   ]
  },
  {
   "cell_type": "code",
   "execution_count": null,
   "metadata": {},
   "outputs": [],
   "source": [
    "arv = get_args(args_dict)"
   ]
  },
  {
   "cell_type": "markdown",
   "metadata": {},
   "source": [
    "### Training"
   ]
  },
  {
   "cell_type": "code",
   "execution_count": null,
   "metadata": {},
   "outputs": [],
   "source": [
    "os.chdir(home)\n",
    "!python train.py $arv"
   ]
  }
 ],
 "metadata": {
  "kernelspec": {
   "display_name": "Python 3",
   "language": "python",
   "name": "python3"
  },
  "language_info": {
   "codemirror_mode": {
    "name": "ipython",
    "version": 3
   },
   "file_extension": ".py",
   "mimetype": "text/x-python",
   "name": "python",
   "nbconvert_exporter": "python",
   "pygments_lexer": "ipython3",
   "version": "3.8.5"
  }
 },
 "nbformat": 4,
 "nbformat_minor": 4
}
