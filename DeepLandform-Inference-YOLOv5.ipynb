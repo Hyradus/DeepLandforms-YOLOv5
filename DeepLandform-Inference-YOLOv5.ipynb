{
 "cells": [
  {
   "cell_type": "markdown",
   "metadata": {},
   "source": [
    "# DeepLandforms Inference YOLOv5\n",
    "## Landforms Object Detection Inference and shapefile creation using YOLOv5\n",
    "@ g.nodjoumi@jacobs-university.de\n",
    "\n",
    "***This notebook is based on yolov5 repository is provided by ultralytics https://zenodo.org/record/4154370 that has been modified to adapt to landforms***\n"
   ]
  },
  {
   "cell_type": "code",
   "execution_count": null,
   "metadata": {},
   "outputs": [],
   "source": [
    "%cd yolov5\n",
    "import os\n",
    "from adds.GenUtils import question, get_types, get_paths, make_folder, askPath, askFile, askInt, askFloat\n",
    "from adds.DLUtils import get_train_cfg, link_dataset, get_model_cfg, get_args\n",
    "from adds.inf2shp import det2gdf, copyfiles, get_world_file\n",
    "import geopandas as gpd\n",
    "import pandas as pd\n",
    "import torch\n",
    "from pyproj import CRS\n",
    "from IPython.display import Image  # for displaying images\n",
    "\n",
    "print('torch %s %s' % (torch.__version__, torch.cuda.get_device_properties(0) if torch.cuda.is_available() else 'CPU'))"
   ]
  },
  {
   "cell_type": "code",
   "execution_count": null,
   "metadata": {},
   "outputs": [],
   "source": [
    "wts = askFile('Weights file: ')\n",
    "source = askPath('Path to input images: ')\n",
    "output = source+'/output'\n",
    "img_size = askInt('Image size for inference: ') # depending on available VRAM, e.g. for 8GB VRAM max img_size is 6000\n",
    "conf_thres = askFloat('Confidence threshold') # suggested is 0.5\n",
    "home = os.getcwd()"
   ]
  },
  {
   "cell_type": "markdown",
   "metadata": {},
   "source": [
    "### Import modules"
   ]
  },
  {
   "cell_type": "markdown",
   "metadata": {},
   "source": [
    "### Create dictionary with all parameters\n",
    "***edit if necessary***"
   ]
  },
  {
   "cell_type": "code",
   "execution_count": null,
   "metadata": {},
   "outputs": [],
   "source": [
    "DST_CRS= CRS.from_wkt('PROJCRS[\"Equirectangular MARS\",BASEGEOGCRS[\"GCS_MARS\",DATUM[\"unnamed\",ELLIPSOID[\"unnamed\",3396036.8126024,0,LENGTHUNIT[\"metre\",1,ID[\"EPSG\",9001]]]],PRIMEM[\"Reference meridian\",0,ANGLEUNIT[\"degree\",0.0174532925199433,ID[\"EPSG\",9122]]]],CONVERSION[\"unnamed\",METHOD[\"Equidistant Cylindrical (Spherical)\",ID[\"EPSG\",1029]],PARAMETER[\"Latitude of 1st standard parallel\",-5,ANGLEUNIT[\"degree\",0.0174532925199433],ID[\"EPSG\",8823]],PARAMETER[\"Longitude of natural origin\",180,ANGLEUNIT[\"degree\",0.0174532925199433],ID[\"EPSG\",8802]],PARAMETER[\"False easting\",0,LENGTHUNIT[\"metre\",1],ID[\"EPSG\",8806]],PARAMETER[\"False northing\",0,LENGTHUNIT[\"metre\",1],ID[\"EPSG\",8807]]],CS[Cartesian,2],AXIS[\"easting\",east,ORDER[1],LENGTHUNIT[\"metre\",1,ID[\"EPSG\",9001]]],AXIS[\"northing\",north,ORDER[2],LENGTHUNIT[\"metre\",1,ID[\"EPSG\",9001]]]]')"
   ]
  },
  {
   "cell_type": "code",
   "execution_count": null,
   "metadata": {},
   "outputs": [],
   "source": [
    "args_dict = {\n",
    "    '--weights': wts,\n",
    "    '--source':source,\n",
    "    '--img-size':img_size,\n",
    "    '--conf-thres':conf_thres,\n",
    "    '--iou-thres':0.4,\n",
    "    '--device':'',\n",
    "    '--view-img': '',\n",
    "    '--save-txt': True,\n",
    "    '--save-conf':True,\n",
    "    '--classes': '',\n",
    "    '--agnostic_nms':'',\n",
    "    '--augment':'',\n",
    "    '--update':'',\n",
    "    '--project':source,\n",
    "    '--name':'output',\n",
    "    '--exist-ok':''}"
   ]
  },
  {
   "cell_type": "code",
   "execution_count": null,
   "metadata": {},
   "outputs": [],
   "source": [
    "arv = get_args(args_dict)"
   ]
  },
  {
   "cell_type": "code",
   "execution_count": null,
   "metadata": {},
   "outputs": [],
   "source": [
    "os.chdir(home)\n",
    "!python detect.py $arv"
   ]
  },
  {
   "cell_type": "markdown",
   "metadata": {},
   "source": [
    "## Convert detection to shapefile"
   ]
  },
  {
   "cell_type": "markdown",
   "metadata": {},
   "source": [
    "**Create list of detections**"
   ]
  },
  {
   "cell_type": "code",
   "execution_count": null,
   "metadata": {},
   "outputs": [],
   "source": [
    "detections = get_paths(output+'/labels', 'txt')"
   ]
  },
  {
   "cell_type": "markdown",
   "metadata": {},
   "source": [
    "**Create final dataframe**"
   ]
  },
  {
   "cell_type": "code",
   "execution_count": null,
   "metadata": {},
   "outputs": [],
   "source": [
    "detections_paths = [source+'output/labels/'+file for file in detections]"
   ]
  },
  {
   "cell_type": "code",
   "execution_count": null,
   "metadata": {},
   "outputs": [],
   "source": [
    "geodataframes = det2gdf(detections_paths, 'tiff', source)"
   ]
  },
  {
   "cell_type": "code",
   "execution_count": null,
   "metadata": {},
   "outputs": [],
   "source": [
    "try:\n",
    "    geoshapes.crs\n",
    "except:\n",
    "    geoshapes = geodataframes[0]"
   ]
  },
  {
   "cell_type": "code",
   "execution_count": null,
   "metadata": {},
   "outputs": [],
   "source": [
    "init_crs = geodataframes[0].crs\n",
    "for geo in geodataframes:\n",
    "    if geo.crs != init_crs:\n",
    "        geo = geo.to_crs(init_crs)\n",
    "#    geoshapes.append(geo, ingore_index=True)\n",
    "    geoshapes = gpd.GeoDataFrame(pd.concat([geoshapes,geo],ignore_index=True),crs=init_crs)"
   ]
  },
  {
   "cell_type": "markdown",
   "metadata": {},
   "source": [
    "**Save to shapefile**"
   ]
  },
  {
   "cell_type": "code",
   "execution_count": null,
   "metadata": {},
   "outputs": [],
   "source": [
    "fname = make_folder(output, 'Dataframe')\n",
    "geoshapes.to_file(fname+'/Inferred_landforms.gpkg', driver='GPKG', crs=init_crs) "
   ]
  }
 ],
 "metadata": {
  "kernelspec": {
   "display_name": "Python 3 (ipykernel)",
   "language": "python",
   "name": "python3"
  },
  "language_info": {
   "codemirror_mode": {
    "name": "ipython",
    "version": 3
   },
   "file_extension": ".py",
   "mimetype": "text/x-python",
   "name": "python",
   "nbconvert_exporter": "python",
   "pygments_lexer": "ipython3",
   "version": "3.9.7"
  }
 },
 "nbformat": 4,
 "nbformat_minor": 4
}
