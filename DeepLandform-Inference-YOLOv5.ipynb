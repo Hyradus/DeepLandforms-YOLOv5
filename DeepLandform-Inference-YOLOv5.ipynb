{
 "cells": [
  {
   "cell_type": "markdown",
   "metadata": {},
   "source": [
    "# DeepLandforms Inference YOLOv5\n",
    "## Landforms Object Detection Inference and shapefile creation using YOLOv5\n",
    "@ g.nodjoumi@jacobs-university.de\n",
    "\n",
    "***This notebook is based on yolov5 repository is provided by ultralytics https://zenodo.org/record/4154370 that has been modified to adapt to landforms***\n"
   ]
  },
  {
   "cell_type": "code",
   "execution_count": 1,
   "metadata": {},
   "outputs": [
    {
     "name": "stdout",
     "output_type": "stream",
     "text": [
      "/media/gnodj/W-DATS/python_scripts/DeepLearning/RoboYolo/yolov5\n",
      "torch 1.7.0 _CudaDeviceProperties(name='Quadro RTX 4000', major=7, minor=5, total_memory=7973MB, multi_processor_count=36)\n"
     ]
    }
   ],
   "source": [
    "%cd yolov5\n",
    "import os\n",
    "from adds.gen_utils import question, get_train_cfg, link_dataset, get_model_cfg, get_args, get_types, get_paths, make_folder\n",
    "from adds.inf2shp import df_comb, df2shp, copyfiles, get_world_file\n",
    "import torch\n",
    "from IPython.display import Image  # for displaying images\n",
    "\n",
    "print('torch %s %s' % (torch.__version__, torch.cuda.get_device_properties(0) if torch.cuda.is_available() else 'CPU'))"
   ]
  },
  {
   "cell_type": "code",
   "execution_count": 17,
   "metadata": {},
   "outputs": [],
   "source": [
    "wts = '/media/gnodj/W-DATS/python_scripts/DeepLearning/Skylight-DL/yolov5l-weights-skylights/weights/best_yolov5l_results.pt'\n",
    "#weights = input(str('Path to weights file'))\n",
    "source = '/media/gnodj/W-DATS/HiRiSE_Data/test_'\n",
    "output = source+'/output'\n",
    "#source = input(str('Path to source images'))\n",
    "img_size = 6000\n",
    "#img_size = int(input('Image size for scaling'))\n",
    "conf_thres = 0.5\n",
    "#conf_thres = float(input('Confidence threshold'))\n",
    "home = os.getcwd()"
   ]
  },
  {
   "cell_type": "markdown",
   "metadata": {},
   "source": [
    "### Import modules"
   ]
  },
  {
   "cell_type": "markdown",
   "metadata": {},
   "source": [
    "### Create dictionary with all parameters\n",
    "***edit if necessary***"
   ]
  },
  {
   "cell_type": "code",
   "execution_count": 3,
   "metadata": {},
   "outputs": [],
   "source": [
    "args_dict = {\n",
    "    '--weights': wts,\n",
    "    '--source':source,\n",
    "    '--img-size':img_size,\n",
    "    '--conf-thres':conf_thres,\n",
    "    '--iou-thres':0.4,\n",
    "    '--device':'',\n",
    "    '--view-img': '',\n",
    "    '--save-txt': True,\n",
    "    '--save-conf':True,\n",
    "    '--classes': '',\n",
    "    '--agnostic_nms':'',\n",
    "    '--augment':'',\n",
    "    '--update':'',\n",
    "    '--project':source,\n",
    "    '--name':'output',\n",
    "    '--exist-ok':''}"
   ]
  },
  {
   "cell_type": "code",
   "execution_count": 4,
   "metadata": {},
   "outputs": [],
   "source": [
    "arv = get_args(args_dict)"
   ]
  },
  {
   "cell_type": "code",
   "execution_count": 5,
   "metadata": {},
   "outputs": [
    {
     "name": "stdout",
     "output_type": "stream",
     "text": [
      "Namespace(agnostic_nms=False, augment=False, classes=None, conf_thres=0.5, device='', exist_ok=False, img_size=6000, iou_thres=0.4, name='output', project='/media/gnodj/W-DATS/HiRiSE_Data/test_', save_conf=True, save_txt=True, source='/media/gnodj/W-DATS/HiRiSE_Data/test_', update=False, view_img=False, weights=['/media/gnodj/W-DATS/python_scripts/DeepLearning/Skylight-DL/yolov5l-weights-skylights/weights/best_yolov5l_results.pt'])\n",
      "Using torch 1.7.0 CUDA:0 (Quadro RTX 4000, 7973MB)\n",
      "\n",
      "Fusing layers... \n",
      "Model Summary: 400 layers, 47386202 parameters, 0 gradients\n",
      "WARNING: --img-size 6000 must be multiple of max stride 32, updating to 6016\n",
      "image 1/9 /media/gnodj/W-DATS/HiRiSE_Data/test_/PSP_005084_1810_RED.tiff: 6016x2240 4 4s, 14 5s, Done. (0.249s)\n",
      "image 2/9 /media/gnodj/W-DATS/HiRiSE_Data/test_/PSP_005124_1705_RED.tiff: 6016x2848 1 2s, 1 4s, 24 5s, Done. (0.324s)\n",
      "image 3/9 /media/gnodj/W-DATS/HiRiSE_Data/test_/PSP_008631_1725_RED.tiff: 6016x1184 1 2s, 1 3s, 7 4s, 6 5s, Done. (0.144s)\n",
      "image 4/9 /media/gnodj/W-DATS/HiRiSE_Data/test_/PSP_008710_1710_RED.tiff: 6016x1952 25 5s, Done. (0.220s)\n",
      "image 5/9 /media/gnodj/W-DATS/HiRiSE_Data/test_/PSP_008763_1645_RED.tiff: 6016x2400 1 5s, Done. (0.274s)\n",
      "image 6/9 /media/gnodj/W-DATS/HiRiSE_Data/test_/PSP_008789_1735_RED.tiff: 6016x1856 8 5s, Done. (0.208s)\n",
      "image 7/9 /media/gnodj/W-DATS/HiRiSE_Data/test_/PSP_008829_1735_RED.tiff: 6016x2656 Done. (0.303s)\n",
      "image 8/9 /media/gnodj/W-DATS/HiRiSE_Data/test_/PSP_008842_1705_RED.tiff: 6016x2240 1 4s, 83 5s, Done. (0.251s)\n",
      "image 9/9 /media/gnodj/W-DATS/HiRiSE_Data/test_/PSP_008868_1675_RED.tiff: 6016x1920 3 5s, Done. (0.215s)\n",
      "Results saved to /media/gnodj/W-DATS/HiRiSE_Data/test_/output\n",
      "0 labels saved to /media/gnodj/W-DATS/HiRiSE_Data/test_/output/labels\n",
      "Done. (4.915s)\n"
     ]
    }
   ],
   "source": [
    "os.chdir(home)\n",
    "!python detect.py $arv"
   ]
  },
  {
   "cell_type": "markdown",
   "metadata": {},
   "source": [
    "## Convert detection to shapefile"
   ]
  },
  {
   "cell_type": "markdown",
   "metadata": {},
   "source": [
    "**Check image type**"
   ]
  },
  {
   "cell_type": "code",
   "execution_count": 6,
   "metadata": {},
   "outputs": [],
   "source": [
    "types = get_types(output)"
   ]
  },
  {
   "cell_type": "markdown",
   "metadata": {},
   "source": [
    "**Get extension and world file**"
   ]
  },
  {
   "cell_type": "code",
   "execution_count": 7,
   "metadata": {},
   "outputs": [],
   "source": [
    "fext, wrf = get_world_file(types)"
   ]
  },
  {
   "cell_type": "markdown",
   "metadata": {},
   "source": [
    "**Copy world files to output folder**"
   ]
  },
  {
   "cell_type": "code",
   "execution_count": 20,
   "metadata": {},
   "outputs": [],
   "source": [
    "copyfiles(source, output, wrf)"
   ]
  },
  {
   "cell_type": "markdown",
   "metadata": {},
   "source": [
    "**Create list od detections**"
   ]
  },
  {
   "cell_type": "code",
   "execution_count": 21,
   "metadata": {},
   "outputs": [],
   "source": [
    "detections = get_paths(output, 'txt')"
   ]
  },
  {
   "cell_type": "markdown",
   "metadata": {},
   "source": [
    "**Create final dataframe**"
   ]
  },
  {
   "cell_type": "code",
   "execution_count": 22,
   "metadata": {},
   "outputs": [],
   "source": [
    "dataframe = df_comb(detections, wrf, fext)"
   ]
  },
  {
   "cell_type": "markdown",
   "metadata": {},
   "source": [
    "**Save to shapefile**"
   ]
  },
  {
   "cell_type": "code",
   "execution_count": 23,
   "metadata": {},
   "outputs": [
    {
     "name": "stdout",
     "output_type": "stream",
     "text": [
      "Dataframe  Folder not exist, creating.\n",
      "Created new  Dataframe  Folder\n"
     ]
    }
   ],
   "source": [
    "fname = make_folder(output, 'Dataframe')\n",
    "df2shp(fname, dataframe)"
   ]
  }
 ],
 "metadata": {
  "kernelspec": {
   "display_name": "Python 3",
   "language": "python",
   "name": "python3"
  },
  "language_info": {
   "codemirror_mode": {
    "name": "ipython",
    "version": 3
   },
   "file_extension": ".py",
   "mimetype": "text/x-python",
   "name": "python",
   "nbconvert_exporter": "python",
   "pygments_lexer": "ipython3",
   "version": "3.8.5"
  }
 },
 "nbformat": 4,
 "nbformat_minor": 4
}
