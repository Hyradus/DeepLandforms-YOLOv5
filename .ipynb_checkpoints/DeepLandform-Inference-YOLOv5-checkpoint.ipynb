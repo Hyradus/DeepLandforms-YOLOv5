{
 "cells": [
  {
   "cell_type": "markdown",
   "metadata": {},
   "source": [
    "# Landforms Object Detection Inference and shapefile creation using YOLOv5\n",
    "\n",
    "***This notebook is based on yolov5 repository is provided by ultralytics https://zenodo.org/record/4154370 that has been modified to adapt to landforms***\n"
   ]
  },
  {
   "cell_type": "code",
   "execution_count": 1,
   "metadata": {},
   "outputs": [
    {
     "name": "stdout",
     "output_type": "stream",
     "text": [
      "/media/gnodj/W-DATS/python_scripts/DeepLearning/RoboYolo/yolov5\n"
     ]
    },
    {
     "ename": "ImportError",
     "evalue": "cannot import name 'get_world_file' from 'adds.gen_utils' (/media/gnodj/W-DATS/python_scripts/DeepLearning/RoboYolo/yolov5/adds/gen_utils.py)",
     "output_type": "error",
     "traceback": [
      "\u001b[0;31m---------------------------------------------------------------------------\u001b[0m",
      "\u001b[0;31mImportError\u001b[0m                               Traceback (most recent call last)",
      "\u001b[0;32m<ipython-input-1-58f3e7befc7a>\u001b[0m in \u001b[0;36m<module>\u001b[0;34m\u001b[0m\n\u001b[1;32m      1\u001b[0m \u001b[0mget_ipython\u001b[0m\u001b[0;34m(\u001b[0m\u001b[0;34m)\u001b[0m\u001b[0;34m.\u001b[0m\u001b[0mrun_line_magic\u001b[0m\u001b[0;34m(\u001b[0m\u001b[0;34m'cd'\u001b[0m\u001b[0;34m,\u001b[0m \u001b[0;34m'yolov5'\u001b[0m\u001b[0;34m)\u001b[0m\u001b[0;34m\u001b[0m\u001b[0;34m\u001b[0m\u001b[0m\n\u001b[1;32m      2\u001b[0m \u001b[0;32mimport\u001b[0m \u001b[0mos\u001b[0m\u001b[0;34m\u001b[0m\u001b[0;34m\u001b[0m\u001b[0m\n\u001b[0;32m----> 3\u001b[0;31m \u001b[0;32mfrom\u001b[0m \u001b[0madds\u001b[0m\u001b[0;34m.\u001b[0m\u001b[0mgen_utils\u001b[0m \u001b[0;32mimport\u001b[0m \u001b[0mquestion\u001b[0m\u001b[0;34m,\u001b[0m \u001b[0mget_train_cfg\u001b[0m\u001b[0;34m,\u001b[0m \u001b[0mlink_dataset\u001b[0m\u001b[0;34m,\u001b[0m \u001b[0mget_model_cfg\u001b[0m\u001b[0;34m,\u001b[0m \u001b[0mget_args\u001b[0m\u001b[0;34m,\u001b[0m \u001b[0mget_types\u001b[0m\u001b[0;34m,\u001b[0m \u001b[0mget_world_file\u001b[0m\u001b[0;34m\u001b[0m\u001b[0;34m\u001b[0m\u001b[0m\n\u001b[0m\u001b[1;32m      4\u001b[0m \u001b[0;32mfrom\u001b[0m \u001b[0madds\u001b[0m\u001b[0;34m.\u001b[0m\u001b[0minf2shp\u001b[0m \u001b[0;32mimport\u001b[0m \u001b[0mdf_comb\u001b[0m\u001b[0;34m,\u001b[0m \u001b[0mdf2shp\u001b[0m\u001b[0;34m,\u001b[0m \u001b[0mcopyfiles\u001b[0m\u001b[0;34m\u001b[0m\u001b[0;34m\u001b[0m\u001b[0m\n\u001b[1;32m      5\u001b[0m \u001b[0;32mimport\u001b[0m \u001b[0mtorch\u001b[0m\u001b[0;34m\u001b[0m\u001b[0;34m\u001b[0m\u001b[0m\n",
      "\u001b[0;31mImportError\u001b[0m: cannot import name 'get_world_file' from 'adds.gen_utils' (/media/gnodj/W-DATS/python_scripts/DeepLearning/RoboYolo/yolov5/adds/gen_utils.py)"
     ]
    }
   ],
   "source": [
    "%cd yolov5\n",
    "import os\n",
    "from adds.gen_utils import question, get_train_cfg, link_dataset, get_model_cfg, get_args, get_types\n",
    "from adds.inf2shp import df_comb, df2shp, copyfiles, get_world_file\n",
    "import torch\n",
    "from IPython.display import Image  # for displaying images\n",
    "\n",
    "print('torch %s %s' % (torch.__version__, torch.cuda.get_device_properties(0) if torch.cuda.is_available() else 'CPU'))"
   ]
  },
  {
   "cell_type": "code",
   "execution_count": 1,
   "metadata": {},
   "outputs": [
    {
     "name": "stdout",
     "output_type": "stream",
     "text": [
      "/media/gnodj/W-DATS/python_scripts/DeepLearning/RoboYolo/yolov5\n"
     ]
    }
   ],
   "source": [
    "%cd yolov5"
   ]
  },
  {
   "cell_type": "code",
   "execution_count": 30,
   "metadata": {},
   "outputs": [],
   "source": [
    "wts = '/media/gnodj/W-DATS/python_scripts/DeepLearning/Skylight-DL/yolov5l-weights-skylights/weights/best_yolov5l_results.pt'\n",
    "#weights = input(str('Path to weights file'))\n",
    "source = '/media/gnodj/W-DATS/HiRiSE_Data/test_'\n",
    "output = source+'/output'\n",
    "#source = input(str('Path to source images'))\n",
    "img_size = 6000\n",
    "#img_size = int(input('Image size for scaling'))\n",
    "conf_thres = 0.5\n",
    "#conf_thres = float(input('Confidence threshold'))\n",
    "home = os.getcwd()"
   ]
  },
  {
   "cell_type": "markdown",
   "metadata": {},
   "source": [
    "### Import modules"
   ]
  },
  {
   "cell_type": "markdown",
   "metadata": {},
   "source": [
    "### Create dictionary with all parameters\n",
    "***edit if necessary***"
   ]
  },
  {
   "cell_type": "code",
   "execution_count": 26,
   "metadata": {},
   "outputs": [],
   "source": [
    "args_dict = {\n",
    "    '--weights': wts,\n",
    "    '--source':source,\n",
    "    '--img-size':img_size,\n",
    "    '--conf-thres':conf_thres,\n",
    "    '--iou-thres':0.4,\n",
    "    '--device':'',\n",
    "    '--view-img': '',\n",
    "    '--save-txt': True,\n",
    "    '--save-conf':'',\n",
    "    '--classes': '',\n",
    "    '--agnostic_nms':'',\n",
    "    '--augment':'',\n",
    "    '--update':'',\n",
    "    '--project':source,\n",
    "    '--name':'output',\n",
    "    '--exist-ok':''}"
   ]
  },
  {
   "cell_type": "code",
   "execution_count": 27,
   "metadata": {},
   "outputs": [],
   "source": [
    "arv = get_args(args_dict)"
   ]
  },
  {
   "cell_type": "code",
   "execution_count": 28,
   "metadata": {},
   "outputs": [
    {
     "name": "stdout",
     "output_type": "stream",
     "text": [
      "Namespace(agnostic_nms=False, augment=False, classes=None, conf_thres=0.5, device='', exist_ok=False, img_size=6000, iou_thres=0.4, name='output', project='/media/gnodj/W-DATS/HiRiSE_Data/test_', save_conf=False, save_txt=True, source='/media/gnodj/W-DATS/HiRiSE_Data/test_', update=False, view_img=False, weights=['/media/gnodj/W-DATS/python_scripts/DeepLearning/Skylight-DL/yolov5l-weights-skylights/weights/best_yolov5l_results.pt'])\n",
      "Using torch 1.7.0 CUDA:0 (Quadro RTX 4000, 7973MB)\n",
      "\n",
      "Fusing layers... \n",
      "Model Summary: 400 layers, 47386202 parameters, 0 gradients\n",
      "WARNING: --img-size 6000 must be multiple of max stride 32, updating to 6016\n",
      "image 1/9 /media/gnodj/W-DATS/HiRiSE_Data/test_/PSP_005084_1810_RED.tiff: 6016x2240 4 4s, 14 5s, Done. (0.252s)\n",
      "image 2/9 /media/gnodj/W-DATS/HiRiSE_Data/test_/PSP_005124_1705_RED.tiff: 6016x2848 1 2s, 1 4s, 24 5s, Done. (0.325s)\n",
      "image 3/9 /media/gnodj/W-DATS/HiRiSE_Data/test_/PSP_008631_1725_RED.tiff: 6016x1184 1 2s, 1 3s, 7 4s, 6 5s, Done. (0.146s)\n",
      "image 4/9 /media/gnodj/W-DATS/HiRiSE_Data/test_/PSP_008710_1710_RED.tiff: 6016x1952 25 5s, Done. (0.222s)\n",
      "image 5/9 /media/gnodj/W-DATS/HiRiSE_Data/test_/PSP_008763_1645_RED.tiff: 6016x2400 1 5s, Done. (0.277s)\n",
      "image 6/9 /media/gnodj/W-DATS/HiRiSE_Data/test_/PSP_008789_1735_RED.tiff: 6016x1856 8 5s, Done. (0.209s)\n",
      "image 7/9 /media/gnodj/W-DATS/HiRiSE_Data/test_/PSP_008829_1735_RED.tiff: 6016x2656 Done. (0.305s)\n",
      "image 8/9 /media/gnodj/W-DATS/HiRiSE_Data/test_/PSP_008842_1705_RED.tiff: 6016x2240 1 4s, 83 5s, Done. (0.252s)\n",
      "image 9/9 /media/gnodj/W-DATS/HiRiSE_Data/test_/PSP_008868_1675_RED.tiff: 6016x1920 3 5s, Done. (0.214s)\n",
      "Results saved to /media/gnodj/W-DATS/HiRiSE_Data/test_/output\n",
      "8 labels saved to /media/gnodj/W-DATS/HiRiSE_Data/test_/output/labels\n",
      "Done. (4.901s)\n"
     ]
    }
   ],
   "source": [
    "os.chdir(home)\n",
    "!python detect.py $arv"
   ]
  },
  {
   "cell_type": "markdown",
   "metadata": {},
   "source": [
    "## Convert detection to shapefile"
   ]
  },
  {
   "cell_type": "markdown",
   "metadata": {},
   "source": [
    "**Check image type**"
   ]
  },
  {
   "cell_type": "code",
   "execution_count": 31,
   "metadata": {},
   "outputs": [],
   "source": [
    "types = get_types(output)"
   ]
  },
  {
   "cell_type": "markdown",
   "metadata": {},
   "source": [
    "**Get extension and world file**"
   ]
  },
  {
   "cell_type": "code",
   "execution_count": null,
   "metadata": {},
   "outputs": [],
   "source": [
    "fext, wrf = get_world_file(types)"
   ]
  },
  {
   "cell_type": "markdown",
   "metadata": {},
   "source": [
    "**Copy world files to output folder**"
   ]
  },
  {
   "cell_type": "code",
   "execution_count": 1,
   "metadata": {},
   "outputs": [
    {
     "ename": "NameError",
     "evalue": "name 'copyfiles' is not defined",
     "output_type": "error",
     "traceback": [
      "\u001b[0;31m---------------------------------------------------------------------------\u001b[0m",
      "\u001b[0;31mNameError\u001b[0m                                 Traceback (most recent call last)",
      "\u001b[0;32m<ipython-input-1-8411b3920a9c>\u001b[0m in \u001b[0;36m<module>\u001b[0;34m\u001b[0m\n\u001b[0;32m----> 1\u001b[0;31m \u001b[0mcopyfiles\u001b[0m\u001b[0;34m(\u001b[0m\u001b[0msource\u001b[0m\u001b[0;34m,\u001b[0m \u001b[0moutput\u001b[0m\u001b[0;34m,\u001b[0m \u001b[0mworld_file\u001b[0m\u001b[0;34m)\u001b[0m\u001b[0;34m\u001b[0m\u001b[0;34m\u001b[0m\u001b[0m\n\u001b[0m",
      "\u001b[0;31mNameError\u001b[0m: name 'copyfiles' is not defined"
     ]
    }
   ],
   "source": [
    "copyfiles(source, output, world_file)"
   ]
  },
  {
   "cell_type": "markdown",
   "metadata": {},
   "source": [
    "**Create list od detections**"
   ]
  },
  {
   "cell_type": "code",
   "execution_count": null,
   "metadata": {},
   "outputs": [],
   "source": [
    "detections = get_paths(output, 'txt')"
   ]
  },
  {
   "cell_type": "markdown",
   "metadata": {},
   "source": [
    "**Create final dataframe**"
   ]
  },
  {
   "cell_type": "code",
   "execution_count": null,
   "metadata": {},
   "outputs": [],
   "source": [
    "dataframe = df_comb(detections, world_file, ixt)"
   ]
  },
  {
   "cell_type": "markdown",
   "metadata": {},
   "source": [
    "**Save to shapefile**"
   ]
  },
  {
   "cell_type": "code",
   "execution_count": null,
   "metadata": {},
   "outputs": [],
   "source": [
    "fname = make_folder(output, 'Dataframe')\n",
    "df2shp(fname, dataframe)"
   ]
  }
 ],
 "metadata": {
  "kernelspec": {
   "display_name": "Python 3",
   "language": "python",
   "name": "python3"
  },
  "language_info": {
   "codemirror_mode": {
    "name": "ipython",
    "version": 3
   },
   "file_extension": ".py",
   "mimetype": "text/x-python",
   "name": "python",
   "nbconvert_exporter": "python",
   "pygments_lexer": "ipython3",
   "version": "3.8.5"
  }
 },
 "nbformat": 4,
 "nbformat_minor": 4
}
